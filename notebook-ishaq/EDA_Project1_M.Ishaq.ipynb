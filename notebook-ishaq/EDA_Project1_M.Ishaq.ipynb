{
 "cells": [
  {
   "cell_type": "code",
   "execution_count": 18,
   "metadata": {},
   "outputs": [],
   "source": [
    "import pandas as pd\n",
    "import numpy as np\n",
    "import matplotlib.pyplot as plt\n",
    "import seaborn as sns\n",
    "from collections import Counter\n",
    "from datetime import datetime"
   ]
  },
  {
   "cell_type": "code",
   "execution_count": 19,
   "metadata": {},
   "outputs": [],
   "source": [
    "price_df = pd.read_csv(r'D:\\SMIT\\CDE\\EDA-Project-Airbnb-Market-Trends\\data\\airbnb_price.csv')\n",
    "room_type_df = pd.read_excel(r'D:\\SMIT\\CDE\\EDA-Project-Airbnb-Market-Trends\\data\\airbnb_room_type.xlsx')\n",
    "review_df = pd.read_csv(r'D:\\SMIT\\CDE\\EDA-Project-Airbnb-Market-Trends\\data\\airbnb_last_review.tsv', sep='\\t')"
   ]
  },
  {
   "cell_type": "markdown",
   "metadata": {},
   "source": [
    " # BASIC ANALYSIS PART:"
   ]
  },
  {
   "cell_type": "code",
   "execution_count": 20,
   "metadata": {},
   "outputs": [],
   "source": [
    "earliest_review = review_df['last_review'].min()\n",
    "most_recent_review = review_df['last_review'].max()"
   ]
  },
  {
   "cell_type": "code",
   "execution_count": 21,
   "metadata": {},
   "outputs": [],
   "source": [
    "nb_private_rooms = room_type_df[room_type_df['room_type'] == 'Private room'].shape[0]"
   ]
  },
  {
   "cell_type": "code",
   "execution_count": 22,
   "metadata": {},
   "outputs": [
    {
     "name": "stdout",
     "output_type": "stream",
     "text": [
      "Average Price: 141.78\n"
     ]
    }
   ],
   "source": [
    "# Remove non-numeric characters and convert to float\n",
    "price_df['price'] = price_df['price'].str.replace('[^\\d.]', '', regex=True).astype(float)\n",
    "\n",
    "# Now calculate the average price\n",
    "avg_price = price_df['price'].mean().round(2)\n",
    "\n",
    "print(f\"Average Price: {avg_price}\")\n",
    "\n"
   ]
  },
  {
   "cell_type": "code",
   "execution_count": 23,
   "metadata": {},
   "outputs": [
    {
     "data": {
      "text/html": [
       "<div>\n",
       "<style scoped>\n",
       "    .dataframe tbody tr th:only-of-type {\n",
       "        vertical-align: middle;\n",
       "    }\n",
       "\n",
       "    .dataframe tbody tr th {\n",
       "        vertical-align: top;\n",
       "    }\n",
       "\n",
       "    .dataframe thead th {\n",
       "        text-align: right;\n",
       "    }\n",
       "</style>\n",
       "<table border=\"1\" class=\"dataframe\">\n",
       "  <thead>\n",
       "    <tr style=\"text-align: right;\">\n",
       "      <th></th>\n",
       "      <th>first_reviewed</th>\n",
       "      <th>last_reviewed</th>\n",
       "      <th>nb_private_rooms</th>\n",
       "      <th>avg_price</th>\n",
       "    </tr>\n",
       "  </thead>\n",
       "  <tbody>\n",
       "    <tr>\n",
       "      <th>0</th>\n",
       "      <td>April 01 2019</td>\n",
       "      <td>May 31 2019</td>\n",
       "      <td>7241</td>\n",
       "      <td>141.78</td>\n",
       "    </tr>\n",
       "  </tbody>\n",
       "</table>\n",
       "</div>"
      ],
      "text/plain": [
       "  first_reviewed last_reviewed  nb_private_rooms  avg_price\n",
       "0  April 01 2019   May 31 2019              7241     141.78"
      ]
     },
     "execution_count": 23,
     "metadata": {},
     "output_type": "execute_result"
    }
   ],
   "source": [
    "review_dates = pd.DataFrame({\n",
    "    'first_reviewed': [earliest_review],\n",
    "    'last_reviewed': [most_recent_review],\n",
    "    'nb_private_rooms': [nb_private_rooms],\n",
    "    'avg_price': [avg_price]\n",
    "})\n",
    "\n",
    "# Display the summary DataFrame\n",
    "review_dates"
   ]
  },
  {
   "cell_type": "code",
   "execution_count": 24,
   "metadata": {},
   "outputs": [],
   "source": [
    "# 1. Neighborhood Trends\n",
    "neighborhood_prices = price_df.groupby('nbhood_full').agg(\n",
    "    average_price=('price', 'mean'),\n",
    "    number_of_listings=('price', 'size')\n",
    ").sort_values(by='average_price', ascending=False)"
   ]
  },
  {
   "cell_type": "code",
   "execution_count": 25,
   "metadata": {},
   "outputs": [
    {
     "data": {
      "text/html": [
       "<div>\n",
       "<style scoped>\n",
       "    .dataframe tbody tr th:only-of-type {\n",
       "        vertical-align: middle;\n",
       "    }\n",
       "\n",
       "    .dataframe tbody tr th {\n",
       "        vertical-align: top;\n",
       "    }\n",
       "\n",
       "    .dataframe thead th {\n",
       "        text-align: right;\n",
       "    }\n",
       "</style>\n",
       "<table border=\"1\" class=\"dataframe\">\n",
       "  <thead>\n",
       "    <tr style=\"text-align: right;\">\n",
       "      <th></th>\n",
       "      <th>average_price</th>\n",
       "      <th>number_of_listings</th>\n",
       "    </tr>\n",
       "    <tr>\n",
       "      <th>nbhood_full</th>\n",
       "      <th></th>\n",
       "      <th></th>\n",
       "    </tr>\n",
       "  </thead>\n",
       "  <tbody>\n",
       "    <tr>\n",
       "      <th>Brooklyn, Sea Gate</th>\n",
       "      <td>805.000000</td>\n",
       "      <td>2</td>\n",
       "    </tr>\n",
       "    <tr>\n",
       "      <th>Manhattan, Tribeca</th>\n",
       "      <td>396.704918</td>\n",
       "      <td>61</td>\n",
       "    </tr>\n",
       "    <tr>\n",
       "      <th>Manhattan, Flatiron District</th>\n",
       "      <td>342.055556</td>\n",
       "      <td>36</td>\n",
       "    </tr>\n",
       "    <tr>\n",
       "      <th>Manhattan, NoHo</th>\n",
       "      <td>335.024390</td>\n",
       "      <td>41</td>\n",
       "    </tr>\n",
       "    <tr>\n",
       "      <th>Manhattan, SoHo</th>\n",
       "      <td>299.162304</td>\n",
       "      <td>191</td>\n",
       "    </tr>\n",
       "  </tbody>\n",
       "</table>\n",
       "</div>"
      ],
      "text/plain": [
       "                              average_price  number_of_listings\n",
       "nbhood_full                                                    \n",
       "Brooklyn, Sea Gate               805.000000                   2\n",
       "Manhattan, Tribeca               396.704918                  61\n",
       "Manhattan, Flatiron District     342.055556                  36\n",
       "Manhattan, NoHo                  335.024390                  41\n",
       "Manhattan, SoHo                  299.162304                 191"
      ]
     },
     "execution_count": 25,
     "metadata": {},
     "output_type": "execute_result"
    }
   ],
   "source": [
    "top_5_expensive_neighborhoods = neighborhood_prices.head(5)\n",
    "top_5_expensive_neighborhoods\n"
   ]
  },
  {
   "cell_type": "code",
   "execution_count": 26,
   "metadata": {},
   "outputs": [
    {
     "ename": "TypeError",
     "evalue": "'float' object is not iterable",
     "output_type": "error",
     "traceback": [
      "\u001b[1;31m---------------------------------------------------------------------------\u001b[0m",
      "\u001b[1;31mTypeError\u001b[0m                                 Traceback (most recent call last)",
      "Cell \u001b[1;32mIn[26], line 9\u001b[0m\n\u001b[0;32m      7\u001b[0m \u001b[38;5;66;03m# Split descriptions into words, convert to lowercase, and filter out stopwords\u001b[39;00m\n\u001b[0;32m      8\u001b[0m descriptions \u001b[38;5;241m=\u001b[39m room_type_df[\u001b[38;5;124m'\u001b[39m\u001b[38;5;124mdescription\u001b[39m\u001b[38;5;124m'\u001b[39m]\u001b[38;5;241m.\u001b[39mdropna()\u001b[38;5;241m.\u001b[39mstr\u001b[38;5;241m.\u001b[39mlower()\u001b[38;5;241m.\u001b[39mstr\u001b[38;5;241m.\u001b[39msplit()\n\u001b[1;32m----> 9\u001b[0m all_words \u001b[38;5;241m=\u001b[39m \u001b[43m[\u001b[49m\u001b[43mword\u001b[49m\u001b[43m \u001b[49m\u001b[38;5;28;43;01mfor\u001b[39;49;00m\u001b[43m \u001b[49m\u001b[43msublist\u001b[49m\u001b[43m \u001b[49m\u001b[38;5;129;43;01min\u001b[39;49;00m\u001b[43m \u001b[49m\u001b[43mdescriptions\u001b[49m\u001b[43m \u001b[49m\u001b[38;5;28;43;01mfor\u001b[39;49;00m\u001b[43m \u001b[49m\u001b[43mword\u001b[49m\u001b[43m \u001b[49m\u001b[38;5;129;43;01min\u001b[39;49;00m\u001b[43m \u001b[49m\u001b[43msublist\u001b[49m\u001b[43m \u001b[49m\u001b[38;5;28;43;01mif\u001b[39;49;00m\u001b[43m \u001b[49m\u001b[43mword\u001b[49m\u001b[43m \u001b[49m\u001b[38;5;129;43;01mnot\u001b[39;49;00m\u001b[43m \u001b[49m\u001b[38;5;129;43;01min\u001b[39;49;00m\u001b[43m \u001b[49m\u001b[43mstopwords\u001b[49m\u001b[43m]\u001b[49m\n\u001b[0;32m     11\u001b[0m word_counts \u001b[38;5;241m=\u001b[39m Counter(all_words)\n\u001b[0;32m     12\u001b[0m top_10_words \u001b[38;5;241m=\u001b[39m word_counts\u001b[38;5;241m.\u001b[39mmost_common(\u001b[38;5;241m10\u001b[39m)\n",
      "Cell \u001b[1;32mIn[26], line 9\u001b[0m, in \u001b[0;36m<listcomp>\u001b[1;34m(.0)\u001b[0m\n\u001b[0;32m      7\u001b[0m \u001b[38;5;66;03m# Split descriptions into words, convert to lowercase, and filter out stopwords\u001b[39;00m\n\u001b[0;32m      8\u001b[0m descriptions \u001b[38;5;241m=\u001b[39m room_type_df[\u001b[38;5;124m'\u001b[39m\u001b[38;5;124mdescription\u001b[39m\u001b[38;5;124m'\u001b[39m]\u001b[38;5;241m.\u001b[39mdropna()\u001b[38;5;241m.\u001b[39mstr\u001b[38;5;241m.\u001b[39mlower()\u001b[38;5;241m.\u001b[39mstr\u001b[38;5;241m.\u001b[39msplit()\n\u001b[1;32m----> 9\u001b[0m all_words \u001b[38;5;241m=\u001b[39m \u001b[43m[\u001b[49m\u001b[43mword\u001b[49m\u001b[43m \u001b[49m\u001b[38;5;28;43;01mfor\u001b[39;49;00m\u001b[43m \u001b[49m\u001b[43msublist\u001b[49m\u001b[43m \u001b[49m\u001b[38;5;129;43;01min\u001b[39;49;00m\u001b[43m \u001b[49m\u001b[43mdescriptions\u001b[49m\u001b[43m \u001b[49m\u001b[38;5;28;43;01mfor\u001b[39;49;00m\u001b[43m \u001b[49m\u001b[43mword\u001b[49m\u001b[43m \u001b[49m\u001b[38;5;129;43;01min\u001b[39;49;00m\u001b[43m \u001b[49m\u001b[43msublist\u001b[49m\u001b[43m \u001b[49m\u001b[38;5;28;43;01mif\u001b[39;49;00m\u001b[43m \u001b[49m\u001b[43mword\u001b[49m\u001b[43m \u001b[49m\u001b[38;5;129;43;01mnot\u001b[39;49;00m\u001b[43m \u001b[49m\u001b[38;5;129;43;01min\u001b[39;49;00m\u001b[43m \u001b[49m\u001b[43mstopwords\u001b[49m\u001b[43m]\u001b[49m\n\u001b[0;32m     11\u001b[0m word_counts \u001b[38;5;241m=\u001b[39m Counter(all_words)\n\u001b[0;32m     12\u001b[0m top_10_words \u001b[38;5;241m=\u001b[39m word_counts\u001b[38;5;241m.\u001b[39mmost_common(\u001b[38;5;241m10\u001b[39m)\n",
      "\u001b[1;31mTypeError\u001b[0m: 'float' object is not iterable"
     ]
    }
   ],
   "source": [
    "# Ensure all values in the description column are strings, replacing NaN with an empty string\n",
    "room_type_df['description'] = room_type_df['description'].fillna('').astype(str)\n",
    "\n",
    "# Split descriptions into words, convert to lowercase, and filter out stopwords\n",
    "descriptions = room_type_df['description'].str.lower().str.split()\n",
    "\n",
    "# Flatten the list of words and filter out stopwords\n",
    "all_words = [word for sublist in descriptions for word in sublist if word not in stopwords]\n",
    "\n",
    "# Use Counter to get the 10 most common words\n",
    "word_counts = Counter(all_words)\n",
    "top_10_words = word_counts.most_common(10)\n",
    "\n",
    "# Display the top 10 words\n",
    "print(top_10_words)\n",
    "\n"
   ]
  },
  {
   "cell_type": "code",
   "execution_count": null,
   "metadata": {},
   "outputs": [],
   "source": []
  }
 ],
 "metadata": {
  "kernelspec": {
   "display_name": "Python 3",
   "language": "python",
   "name": "python3"
  },
  "language_info": {
   "codemirror_mode": {
    "name": "ipython",
    "version": 3
   },
   "file_extension": ".py",
   "mimetype": "text/x-python",
   "name": "python",
   "nbconvert_exporter": "python",
   "pygments_lexer": "ipython3",
   "version": "3.11.4"
  }
 },
 "nbformat": 4,
 "nbformat_minor": 2
}
